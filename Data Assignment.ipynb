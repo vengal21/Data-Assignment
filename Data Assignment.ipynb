{
 "cells": [
  {
   "cell_type": "markdown",
   "id": "f2c894c3",
   "metadata": {},
   "source": [
    "## Data collection"
   ]
  },
  {
   "cell_type": "code",
   "execution_count": null,
   "id": "e87ff82f",
   "metadata": {},
   "outputs": [],
   "source": [
    "#importing required libraries\n",
    "import pandas as pd\n",
    "import warnings\n",
    "warnings.filterwarnings('ignore')"
   ]
  },
  {
   "cell_type": "markdown",
   "id": "234a99b8",
   "metadata": {},
   "source": [
    "###### Label:- S&P/Case-Shiller U.S. National Home Price Index: target variable"
   ]
  },
  {
   "cell_type": "code",
   "execution_count": null,
   "id": "0d4676a1",
   "metadata": {},
   "outputs": [],
   "source": [
    "#Reading CASE-SHILLER Index into a dataframe\n",
    "label = pd.read_csv(r\"C:\\Users\\venga\\Downloads\\CSUSHPISA.csv\")\n",
    "label.head()"
   ]
  },
  {
   "cell_type": "code",
   "execution_count": null,
   "id": "d5d1c65d",
   "metadata": {},
   "outputs": [],
   "source": [
    "#  column renaming. \n",
    "label.rename(columns= {'CSUSHPINSA': 'home_price'}, inplace =True)"
   ]
  },
  {
   "cell_type": "code",
   "execution_count": null,
   "id": "f1c547ed",
   "metadata": {},
   "outputs": [],
   "source": [
    "label.shape"
   ]
  },
  {
   "cell_type": "markdown",
   "id": "bf828e40",
   "metadata": {},
   "source": [
    "###### Interest rates"
   ]
  },
  {
   "cell_type": "markdown",
   "id": "7ec4bddf",
   "metadata": {},
   "source": [
    "•\tMortgage Rate (A mortgage rate is the interest rate charged for a home loan.(Percentage))"
   ]
  },
  {
   "cell_type": "code",
   "execution_count": null,
   "id": "d270faff",
   "metadata": {},
   "outputs": [],
   "source": [
    "#Reading Interest rates into a dataframe\n",
    "Interest = pd.read_csv(r\"C:\\Users\\venga\\Downloads\\FEDFUNDS.csv\")\n",
    "Interest.head(5)"
   ]
  },
  {
   "cell_type": "code",
   "execution_count": null,
   "id": "4792406d",
   "metadata": {},
   "outputs": [],
   "source": [
    "#  column renaming. \n",
    "Interest.rename(columns= {'FEDFUNDS': 'Interest'}, inplace =True)"
   ]
  },
  {
   "cell_type": "code",
   "execution_count": null,
   "id": "6d27190a",
   "metadata": {},
   "outputs": [],
   "source": [
    "Interest.shape"
   ]
  },
  {
   "cell_type": "markdown",
   "id": "5f7e8721",
   "metadata": {},
   "source": [
    "###### Unemployment rate"
   ]
  },
  {
   "cell_type": "markdown",
   "id": "d3e3a931",
   "metadata": {},
   "source": [
    "•\tUnemployment Rate (The unemployment rate represents the number of unemployed as a percentage of the labor force. (16 years age or above))"
   ]
  },
  {
   "cell_type": "code",
   "execution_count": null,
   "id": "3dcda62c",
   "metadata": {},
   "outputs": [],
   "source": [
    "#Reading Unemployment rate into a dataframe\n",
    "Unemp_rate = pd.read_csv(r\"C:\\Users\\venga\\Downloads\\UNRATENSA.csv\")\n",
    "Unemp_rate.head(5)"
   ]
  },
  {
   "cell_type": "code",
   "execution_count": null,
   "id": "968305cc",
   "metadata": {},
   "outputs": [],
   "source": [
    "# column renaming. \n",
    "Unemp_rate.rename(columns= {'UNRATENSA': 'Unemp_rate'}, inplace =True)"
   ]
  },
  {
   "cell_type": "code",
   "execution_count": null,
   "id": "ecc82152",
   "metadata": {},
   "outputs": [],
   "source": [
    "Unemp_rate.shape"
   ]
  },
  {
   "cell_type": "markdown",
   "id": "af75f093",
   "metadata": {},
   "source": [
    "###### Per Capita GDP"
   ]
  },
  {
   "cell_type": "markdown",
   "id": "d55549b4",
   "metadata": {},
   "source": [
    "•\tGross Domestic Product (Featured measure of U.S. output, is the market value of the goods and services produced by labor and property located in the United States.)"
   ]
  },
  {
   "cell_type": "code",
   "execution_count": null,
   "id": "f87734fc",
   "metadata": {},
   "outputs": [],
   "source": [
    "#Reading Per Capita GDP into a dataframe\n",
    "GDP = pd.read_csv(r\"C:\\Users\\venga\\Downloads\\A939RX0Q048SBEA.csv\")\n",
    "GDP.head(5)"
   ]
  },
  {
   "cell_type": "code",
   "execution_count": null,
   "id": "0a7fbde6",
   "metadata": {},
   "outputs": [],
   "source": [
    "# column renaming. \n",
    "GDP.rename(columns= {'A939RX0Q048SBEA': 'GDP'}, inplace =True)"
   ]
  },
  {
   "cell_type": "code",
   "execution_count": null,
   "id": "2e301441",
   "metadata": {},
   "outputs": [],
   "source": [
    "GDP.shape"
   ]
  },
  {
   "cell_type": "markdown",
   "id": "15dbd1b6",
   "metadata": {},
   "source": [
    "###### Income"
   ]
  },
  {
   "cell_type": "markdown",
   "id": "2bb98588",
   "metadata": {},
   "source": [
    "•\tPersonal Income (Income that persons receive in return for their provision of labor, land, and capital used in current production and the net current transfer payments that they receive from business and from government.)"
   ]
  },
  {
   "cell_type": "code",
   "execution_count": null,
   "id": "8cf8d8cc",
   "metadata": {},
   "outputs": [],
   "source": [
    "#Reading Income into a dataframe\n",
    "Income = pd.read_csv(r\"C:\\Users\\venga\\Downloads\\DSPIC96.csv\")\n",
    "Income.head(5)"
   ]
  },
  {
   "cell_type": "code",
   "execution_count": null,
   "id": "78808bf7",
   "metadata": {},
   "outputs": [],
   "source": [
    "# column renaming. \n",
    "Income.rename(columns= {'DSPIC96': 'Income'}, inplace =True)"
   ]
  },
  {
   "cell_type": "code",
   "execution_count": null,
   "id": "274d68d5",
   "metadata": {},
   "outputs": [],
   "source": [
    "Income.shape"
   ]
  },
  {
   "cell_type": "markdown",
   "id": "50c0bb16",
   "metadata": {},
   "source": [
    "###### New Constructed units"
   ]
  },
  {
   "cell_type": "code",
   "execution_count": null,
   "id": "f97b85ef",
   "metadata": {},
   "outputs": [],
   "source": [
    "#Reading New Constructed units into a dataframe\n",
    "Const_units = pd.read_csv(r\"C:\\Users\\venga\\Downloads\\COMPUTSA.csv\")\n",
    "Const_units.head(5)"
   ]
  },
  {
   "cell_type": "code",
   "execution_count": null,
   "id": "849c66d3",
   "metadata": {},
   "outputs": [],
   "source": [
    "# column renaming. \n",
    "Const_units.rename(columns= {'COMPUTSA': 'Const_units'}, inplace =True)"
   ]
  },
  {
   "cell_type": "code",
   "execution_count": null,
   "id": "8140c4ec",
   "metadata": {},
   "outputs": [],
   "source": [
    "Const_units.shape"
   ]
  },
  {
   "cell_type": "markdown",
   "id": "237ccf95",
   "metadata": {},
   "source": [
    "###### Construction price index"
   ]
  },
  {
   "cell_type": "markdown",
   "id": "3816ebdf",
   "metadata": {},
   "source": [
    "The index measures changes in cost for production factors in housing construction, "
   ]
  },
  {
   "cell_type": "code",
   "execution_count": null,
   "id": "850bac8f",
   "metadata": {},
   "outputs": [],
   "source": [
    "#Reading Construction price index into a dataframe\n",
    "Const_price = pd.read_csv(r\"C:\\Users\\venga\\Downloads\\WPUSI012011.csv\")\n",
    "Const_price.head(5)"
   ]
  },
  {
   "cell_type": "code",
   "execution_count": null,
   "id": "75bdf490",
   "metadata": {},
   "outputs": [],
   "source": [
    "# column renaming. \n",
    "Const_price.rename(columns= {'WPUSI012011': 'Const_price'}, inplace =True)"
   ]
  },
  {
   "cell_type": "code",
   "execution_count": null,
   "id": "dbf83543",
   "metadata": {},
   "outputs": [],
   "source": [
    "Const_price.shape"
   ]
  },
  {
   "cell_type": "markdown",
   "id": "e250d213",
   "metadata": {},
   "source": [
    "###### Housing Subsidies"
   ]
  },
  {
   "cell_type": "markdown",
   "id": "3ce642b8",
   "metadata": {},
   "source": [
    "A subsidy is a benefit given by the government to groups or individuals, usually in the form of a cash payment or tax reduction."
   ]
  },
  {
   "cell_type": "code",
   "execution_count": null,
   "id": "dbcbde83",
   "metadata": {},
   "outputs": [],
   "source": [
    "#Reading Housing Subsidies (Federal) into a datafram\n",
    "Subsidies = pd.read_csv(r\"C:\\Users\\venga\\Downloads\\L312051A027NBEA.csv\")\n",
    "Subsidies.head(5)"
   ]
  },
  {
   "cell_type": "code",
   "execution_count": null,
   "id": "e45165ac",
   "metadata": {},
   "outputs": [],
   "source": [
    "#column renaming. \n",
    "Subsidies.rename(columns= {'L312051A027NBEA': 'Subsidies'}, inplace =True)"
   ]
  },
  {
   "cell_type": "code",
   "execution_count": null,
   "id": "04f182eb",
   "metadata": {},
   "outputs": [],
   "source": [
    "Subsidies.shape"
   ]
  },
  {
   "cell_type": "markdown",
   "id": "28af1ce4",
   "metadata": {},
   "source": [
    "###### Total households"
   ]
  },
  {
   "cell_type": "code",
   "execution_count": null,
   "id": "12572426",
   "metadata": {},
   "outputs": [],
   "source": [
    "#Reading Total households into a dataframe\n",
    "households = pd.read_csv(r\"C:\\Users\\venga\\Downloads\\TTLHH.csv\")\n",
    "households.head(5)"
   ]
  },
  {
   "cell_type": "code",
   "execution_count": null,
   "id": "1d4b5175",
   "metadata": {},
   "outputs": [],
   "source": [
    "#column renaming. \n",
    "households.rename(columns= {'TTLHH': 'households'}, inplace =True)"
   ]
  },
  {
   "cell_type": "code",
   "execution_count": null,
   "id": "3f62305e",
   "metadata": {},
   "outputs": [],
   "source": [
    "households.shape"
   ]
  },
  {
   "cell_type": "markdown",
   "id": "1345c4a4",
   "metadata": {},
   "source": [
    "###### Median sale price"
   ]
  },
  {
   "cell_type": "markdown",
   "id": "891ba02e",
   "metadata": {},
   "source": [
    "(Median Sales Price of Houses Sold for the United States.(US Dollers))"
   ]
  },
  {
   "cell_type": "code",
   "execution_count": null,
   "id": "b88c89b9",
   "metadata": {},
   "outputs": [],
   "source": [
    "#Reading Median sale price into a dataframe\n",
    "sale_price = pd.read_csv(r\"C:\\Users\\venga\\Downloads\\MSPUS.csv\")\n",
    "sale_price.head(5)"
   ]
  },
  {
   "cell_type": "code",
   "execution_count": null,
   "id": "f546e90f",
   "metadata": {},
   "outputs": [],
   "source": [
    "#  column renaming. \n",
    "sale_price.rename(columns= {'MSPUS': 'sale_price'}, inplace =True)"
   ]
  },
  {
   "cell_type": "code",
   "execution_count": null,
   "id": "6c19a348",
   "metadata": {},
   "outputs": [],
   "source": [
    "sale_price.shape"
   ]
  },
  {
   "cell_type": "markdown",
   "id": "5f925dfe",
   "metadata": {},
   "source": [
    "###### employmen population"
   ]
  },
  {
   "cell_type": "markdown",
   "id": "d3aeca31",
   "metadata": {},
   "source": [
    "•\tEmployment- (Population Ratio (emratio))"
   ]
  },
  {
   "cell_type": "code",
   "execution_count": null,
   "id": "bd8522f5",
   "metadata": {},
   "outputs": [],
   "source": [
    "#Reading employmen population ratio into a dataframe\n",
    "empl_population = pd.read_csv(r\"C:\\Users\\venga\\Downloads\\LNU01300000.csv\")\n",
    "empl_population.head(5)"
   ]
  },
  {
   "cell_type": "code",
   "execution_count": null,
   "id": "76c2efef",
   "metadata": {},
   "outputs": [],
   "source": [
    "#column renaming. \n",
    "empl_population.rename(columns= {'LNU01300000': 'empl_population'}, inplace =True)"
   ]
  },
  {
   "cell_type": "code",
   "execution_count": null,
   "id": "c9cb747f",
   "metadata": {},
   "outputs": [],
   "source": [
    "empl_population.shape"
   ]
  },
  {
   "cell_type": "markdown",
   "id": "e4aea27f",
   "metadata": {},
   "source": [
    "###### population"
   ]
  },
  {
   "cell_type": "code",
   "execution_count": null,
   "id": "d437518e",
   "metadata": {},
   "outputs": [],
   "source": [
    "#Reading population  into a dataframe\n",
    "population = pd.read_csv(r\"C:\\Users\\venga\\Downloads\\POPTHM.csv\")\n",
    "population.head(5)"
   ]
  },
  {
   "cell_type": "code",
   "execution_count": null,
   "id": "d65d0b25",
   "metadata": {},
   "outputs": [],
   "source": [
    "#column renaming. \n",
    "population.rename(columns= {'POPTHM': 'population'}, inplace =True)"
   ]
  },
  {
   "cell_type": "code",
   "execution_count": null,
   "id": "1bc16ca6",
   "metadata": {},
   "outputs": [],
   "source": [
    "population.shape"
   ]
  },
  {
   "cell_type": "markdown",
   "id": "d15db640",
   "metadata": {},
   "source": [
    "###### Consumer Price Index"
   ]
  },
  {
   "cell_type": "markdown",
   "id": "23a58fbf",
   "metadata": {},
   "source": [
    " Indicates inflation in housing costs , affecting housing affordability , potentially impacting home prices"
   ]
  },
  {
   "cell_type": "code",
   "execution_count": null,
   "id": "3698d871",
   "metadata": {},
   "outputs": [],
   "source": [
    "#Reading Consumer Price Index  into a dataframe\n",
    "CPI = pd.read_csv(r\"C:\\Users\\venga\\Downloads\\CPIAUCNS.csv\")\n",
    "CPI.head(5)"
   ]
  },
  {
   "cell_type": "code",
   "execution_count": null,
   "id": "fa751ca5",
   "metadata": {},
   "outputs": [],
   "source": [
    "# column renaming. \n",
    "CPI.rename(columns= {'POPTHM': 'population'}, inplace =True)"
   ]
  },
  {
   "cell_type": "code",
   "execution_count": null,
   "id": "abed4b58",
   "metadata": {},
   "outputs": [],
   "source": [
    "CPI.shape"
   ]
  },
  {
   "cell_type": "markdown",
   "id": "bac8268d",
   "metadata": {},
   "source": [
    "###### Total Units Authorized in Permit-Issuing Places ratio"
   ]
  },
  {
   "cell_type": "code",
   "execution_count": null,
   "id": "33753e2c",
   "metadata": {},
   "outputs": [],
   "source": [
    "#Reading Total Units Authorized in Permit-Issuing Places ratio into a dataframe\n",
    "Units_Authoriz = pd.read_csv(r\"C:\\Users\\venga\\Downloads\\PERMIT.csv\")\n",
    "Units_Authoriz.head(5)"
   ]
  },
  {
   "cell_type": "code",
   "execution_count": null,
   "id": "6f6e6983",
   "metadata": {},
   "outputs": [],
   "source": [
    "# column renaming. \n",
    "Units_Authoriz.rename(columns= {'PERMIT': 'Units_Authoriz'}, inplace =True)"
   ]
  },
  {
   "cell_type": "code",
   "execution_count": null,
   "id": "98d4f55f",
   "metadata": {},
   "outputs": [],
   "source": [
    "Units_Authoriz.shape"
   ]
  },
  {
   "cell_type": "markdown",
   "id": "6aba994f",
   "metadata": {},
   "source": [
    "##### Merging Dataframe"
   ]
  },
  {
   "cell_type": "code",
   "execution_count": null,
   "id": "ec3c60c8",
   "metadata": {},
   "outputs": [],
   "source": [
    "# Concating dataframes having monthly data to create one dataframe\n",
    "df = pd.DataFrame()\n",
    "df_bymonth = [Interest, Unemp_rate, Income, Const_units, Const_price, empl_population,population,Units_Authoriz,label,CPI]\n",
    "for dataframe in df_bymonth:\n",
    "    dataframe[\"DATE\"] = pd.to_datetime(dataframe[\"DATE\"])\n",
    "    dataframe = dataframe.set_index(\"DATE\")\n",
    "    df = pd.concat([df,dataframe], axis = 1)\n",
    "print(df.shape)\n",
    "df.head()"
   ]
  },
  {
   "cell_type": "code",
   "execution_count": null,
   "id": "af16a185",
   "metadata": {},
   "outputs": [],
   "source": [
    "# Concating dataframes having quaterly data to create one dataframe\n",
    "df1 = pd.DataFrame()\n",
    "df_byquaterly = [sale_price, GDP]\n",
    "for dataframe in df_byquaterly:\n",
    "    dataframe[\"DATE\"] = pd.to_datetime(dataframe[\"DATE\"])\n",
    "    dataframe = dataframe.set_index(\"DATE\")\n",
    "    df1 = pd.concat([df1,dataframe], axis = 1)\n",
    "print(df1.shape)\n",
    "df1.head()"
   ]
  },
  {
   "cell_type": "code",
   "execution_count": null,
   "id": "3275f6a8",
   "metadata": {},
   "outputs": [],
   "source": [
    "# Concating dataframes having annually data to create one dataframe\n",
    "df2 = pd.DataFrame()\n",
    "df_byannually = [households, Subsidies]\n",
    "for dataframe in df_byannually:\n",
    "    dataframe[\"DATE\"] = pd.to_datetime(dataframe[\"DATE\"])\n",
    "    dataframe = dataframe.set_index(\"DATE\")\n",
    "    df2 = pd.concat([df2,dataframe], axis = 1)\n",
    "print(df2.shape)\n",
    "df2.head()"
   ]
  },
  {
   "cell_type": "code",
   "execution_count": null,
   "id": "6853bbc2",
   "metadata": {},
   "outputs": [],
   "source": [
    "# Merge DataFrames using 'DATE' as the common column\n",
    "merged_df = pd.merge(df1, df2, on='DATE', how='outer')"
   ]
  },
  {
   "cell_type": "code",
   "execution_count": null,
   "id": "42a686b7",
   "metadata": {},
   "outputs": [],
   "source": [
    "merged_df"
   ]
  },
  {
   "cell_type": "code",
   "execution_count": null,
   "id": "893c6f22",
   "metadata": {},
   "outputs": [],
   "source": [
    "# Merge DataFrames using 'DATE' as the common column\n",
    "final_df = pd.merge(df, merged_df, on='DATE', how='outer')"
   ]
  },
  {
   "cell_type": "code",
   "execution_count": null,
   "id": "6fc42e6d",
   "metadata": {},
   "outputs": [],
   "source": [
    "final_df"
   ]
  },
  {
   "cell_type": "code",
   "execution_count": null,
   "id": "e13b491c",
   "metadata": {},
   "outputs": [],
   "source": [
    "df=final_df[:-2]"
   ]
  },
  {
   "cell_type": "code",
   "execution_count": null,
   "id": "782024ef",
   "metadata": {},
   "outputs": [],
   "source": [
    "df.shape"
   ]
  },
  {
   "cell_type": "code",
   "execution_count": null,
   "id": "d47b08cc",
   "metadata": {},
   "outputs": [],
   "source": [
    "# Reset the index to default integer index\n",
    "df_reset = df.reset_index(drop=False)"
   ]
  },
  {
   "cell_type": "code",
   "execution_count": null,
   "id": "e0d42158",
   "metadata": {},
   "outputs": [],
   "source": [
    "# resetting of date column\n",
    "df_reset['DATE'] = pd.to_datetime(df_reset['DATE'])\n",
    "\n",
    "df_reset['Month'] = df_reset['DATE'].dt.month\n",
    "\n",
    "df_reset['Year'] = df_reset['DATE'].dt.year\n",
    "\n",
    "df_reset['Day'] = df_reset['DATE'].dt.day\n",
    "\n",
    "df_reset.drop('DATE',axis=1,inplace=True)\n",
    "\n"
   ]
  },
  {
   "cell_type": "code",
   "execution_count": null,
   "id": "60460439",
   "metadata": {},
   "outputs": [],
   "source": [
    "df = df_reset"
   ]
  },
  {
   "cell_type": "code",
   "execution_count": null,
   "id": "afcdd6f0",
   "metadata": {},
   "outputs": [],
   "source": [
    "df.shape"
   ]
  },
  {
   "cell_type": "markdown",
   "id": "0b63ce00",
   "metadata": {},
   "source": [
    "##### EDA"
   ]
  },
  {
   "cell_type": "code",
   "execution_count": null,
   "id": "ccd5c448",
   "metadata": {},
   "outputs": [],
   "source": [
    "df.info()"
   ]
  },
  {
   "cell_type": "markdown",
   "id": "21e97547",
   "metadata": {},
   "source": [
    "All Features and target cantain only float type dataset"
   ]
  },
  {
   "cell_type": "code",
   "execution_count": null,
   "id": "0302936a",
   "metadata": {},
   "outputs": [],
   "source": [
    "df.isnull().sum()"
   ]
  },
  {
   "cell_type": "markdown",
   "id": "51183da9",
   "metadata": {},
   "source": [
    "Observation: There are some nan values here, but the data on nan values is only available on a quarterly or annual basis, therefore we're populating the nan values with the most recent available data."
   ]
  },
  {
   "cell_type": "code",
   "execution_count": null,
   "id": "79361ae2",
   "metadata": {},
   "outputs": [],
   "source": [
    "# filling Nan values\n",
    "df['sale_price'] = df['sale_price'].ffill()\n",
    "df['GDP'] = df['GDP'].ffill()\n",
    "df['households'] = df['households'].ffill()\n",
    "df['Subsidies'] = df['Subsidies'].ffill()"
   ]
  },
  {
   "cell_type": "code",
   "execution_count": null,
   "id": "d2e9631f",
   "metadata": {},
   "outputs": [],
   "source": [
    "# Fill missing values with data available\n",
    "df['Subsidies'].fillna('25.93', inplace=True)\n",
    "df['households'].fillna('111278.0', inplace=True)\n",
    "df['GDP'].fillna('51512', inplace=True)\n",
    "df['sale_price'].fillna('19750', inplace=True)"
   ]
  },
  {
   "cell_type": "code",
   "execution_count": null,
   "id": "f0622401",
   "metadata": {},
   "outputs": [],
   "source": [
    "# again checking for null values\n",
    "df.isnull().sum()"
   ]
  },
  {
   "cell_type": "code",
   "execution_count": null,
   "id": "0530358b",
   "metadata": {},
   "outputs": [],
   "source": [
    "#importing required libraries\n",
    "import seaborn as sns\n",
    "import matplotlib.pyplot as plt\n",
    "import numpy as np"
   ]
  },
  {
   "cell_type": "code",
   "execution_count": null,
   "id": "18133640",
   "metadata": {},
   "outputs": [],
   "source": [
    "#visualised for NaN values\n",
    "sns.heatmap(df.isnull())"
   ]
  },
  {
   "cell_type": "markdown",
   "id": "1f5c3576",
   "metadata": {},
   "source": [
    "Null values was completly removed\n"
   ]
  },
  {
   "cell_type": "code",
   "execution_count": null,
   "id": "eca701be",
   "metadata": {},
   "outputs": [],
   "source": [
    "# checking for white space\n",
    "# Iterate through each column of the dataframe and check for white spaces\n",
    "for col in df.columns:\n",
    "    # Count the number of white spaces in the column\n",
    "    num_spaces = sum(df[col].astype(str).apply(lambda x: x.isspace()))\n",
    "\n",
    "    # Display the results\n",
    "    print(f\"Column '{col}' has {num_spaces} white spaces.\")"
   ]
  },
  {
   "cell_type": "markdown",
   "id": "fa88314d",
   "metadata": {},
   "source": [
    "Observation:- dataset doesnt contain any white space"
   ]
  },
  {
   "cell_type": "code",
   "execution_count": null,
   "id": "20660fe5",
   "metadata": {},
   "outputs": [],
   "source": [
    "#checking number of unique values\n",
    "df.nunique()"
   ]
  },
  {
   "cell_type": "markdown",
   "id": "b1157b9e",
   "metadata": {},
   "source": [
    "##### Visualization¶"
   ]
  },
  {
   "cell_type": "markdown",
   "id": "6c360fce",
   "metadata": {},
   "source": [
    "###### univariant visualization"
   ]
  },
  {
   "cell_type": "code",
   "execution_count": null,
   "id": "387bf4fd",
   "metadata": {},
   "outputs": [],
   "source": [
    "# Checking how the data has been distriubted in each column\n",
    "\n",
    "import pandas as pd\n",
    "import matplotlib.pyplot as plt\n",
    "import seaborn as sns\n",
    "\n",
    "# Example DataFrame\n",
    "# df = pd.DataFrame({...})\n",
    "\n",
    "# Step 1: Identify non-numeric columns\n",
    "non_numeric_columns = df.select_dtypes(exclude=['number']).columns\n",
    "\n",
    "# Step 2: Convert columns to numeric, coerce errors to NaN\n",
    "df[non_numeric_columns] = df[non_numeric_columns].apply(pd.to_numeric, errors='coerce')\n",
    "\n",
    "# Step 3: Handle NaN values if necessary (e.g., fill with mean or median)\n",
    "df.fillna(df.mean(), inplace=True)\n",
    "\n",
    "# Plotting\n",
    "plt.figure(figsize=(10,10), facecolor='white')\n",
    "plotnumber = 1\n",
    "for i in df.columns:\n",
    "    if plotnumber <= 16:\n",
    "        ax = plt.subplot(4,4,plotnumber)\n",
    "        sns.distplot(df[i], color=\"b\")\n",
    "        plt.xlabel(i, fontsize=10)\n",
    "    plotnumber += 1\n",
    "plt.tight_layout()\n",
    "plt.show()\n"
   ]
  },
  {
   "cell_type": "markdown",
   "id": "74054ecf",
   "metadata": {},
   "source": [
    "Observation: data available in Interest', 'Unemp_rate', 'Income', 'Const_units', 'Const_price',\n",
    "       'empl_population', 'population', 'Units_Authoriz', 'CSUSHPISA',\n",
    "       'CPIAUCNS', 'sale_price', 'GDP',  'Subsidies' is skewed"
   ]
  },
  {
   "cell_type": "code",
   "execution_count": null,
   "id": "b164b790",
   "metadata": {},
   "outputs": [],
   "source": [
    "fig, (ax1, ax2,ax3,ax4) = plt.subplots(4, 1, figsize=(15, 8))\n",
    "\n",
    "sns.barplot(data=df, x='Year', y='Interest', color='g', ax=ax1).set(title='Fixed interest rate of years')\n",
    "ax1.grid(True)\n",
    "\n",
    "sns.lineplot(data=df, x='Year', y='Unemp_rate', marker='o', color='b', ax=ax2).set(title='unemployee rate Over The Year')\n",
    "ax2.grid(True)\n",
    "\n",
    "sns.lineplot(data=df, x='Year', y='Income', marker='o', color='r', ax=ax3).set(title='income Over The Year')\n",
    "ax3.grid(True)\n",
    "\n",
    "sns.lineplot(data=df, x='Year', y='Const_units', marker='o', color='g', ax=ax4).set(title='Const_units Over The Year')\n",
    "ax4.grid(True)\n",
    "\n",
    "fig.tight_layout()\n",
    "plt.show()"
   ]
  },
  {
   "cell_type": "markdown",
   "id": "675de89b",
   "metadata": {},
   "source": [
    "Observation: \n",
    "\n",
    "1. Despite low-interest rates during the years 2008 to 2021 correlating with a relatively low Home Price Index (HPI), the scenario changed after in 2021. Even with higher interest rates, the HPI increased\n",
    "\n",
    "2. Income has been increasing steadily over the years, with a few minor dips. In 2003, the average annual income was around $18000. By 2022, it  had  increased  to over $26,000. This represents an increase of over 40% over the past two decades.\n",
    "\n",
    "3. The unemployment rate has fluctuated over the years, but it has generally been trending downwards. In 2003, the unemployment rate was over 6%. By 2022, it had fallen to below 4%. This represents a significant improvement in the labor market over the past two decades.\n",
    "\n",
    "4. The construction unit line shows the value of a constant unit of currency over time. This is useful for comparing the purchasing power of income over time. For example, in 2003, $18,000 could buy more goods and services than $18,000 can today. This is because inflation has caused the value of currency to decrease over time."
   ]
  },
  {
   "cell_type": "code",
   "execution_count": null,
   "id": "07ec6bbb",
   "metadata": {},
   "outputs": [],
   "source": [
    "fig, (ax1, ax2,ax3,ax4) = plt.subplots(4, 1, figsize=(15, 8))\n",
    "\n",
    "sns.barplot(data=df, x='Year', y='Const_price', color='g', ax=ax1).set(title='Const_price over the years')\n",
    "ax1.grid(True)\n",
    "\n",
    "sns.lineplot(data=df, x='Year', y='empl_population', marker='o', color='b', ax=ax2).set(title='empl_population Over The Year')\n",
    "ax2.grid(True)\n",
    "\n",
    "sns.lineplot(data=df, x='Year', y='population', marker='o', color='r', ax=ax3).set(title='population Over The Year')\n",
    "ax3.grid(True)\n",
    "\n",
    "sns.lineplot(data=df, x='Year', y='Units_Authoriz', marker='o', color='g', ax=ax4).set(title='Units_Authoriz Over The Year')\n",
    "ax4.grid(True)\n",
    "\n",
    "fig.tight_layout()\n",
    "plt.show()"
   ]
  },
  {
   "cell_type": "markdown",
   "id": "c37db8df",
   "metadata": {},
   "source": [
    "Observation:\n",
    "    \n",
    "1. The number of units manufactured has increased steadily over the years, with a few minor dips.\n",
    "\n",
    "2. The \"Units Authoriz\" line shows the largest increase in manufacturing output. This suggests that the number of units authorized for production has been growing faster than the population or the number of units produced at a constant price.\n",
    "\n",
    "3. The \"population\" line shows that the population has also been growing over the years, but at a slower rate than the number of units manufactured.\n",
    "\n",
    "4. The \"Const price\" line shows the value of a constant unit of currency over time. This is useful for comparing the purchasing power of manufacturing output over time. For example, in 2003, 1,000 units manufactured at a constant price could buy more goods and services than 1,000 units manufactured at a constant price in 2023. This is because inflation has caused the value of currency to decrease over time."
   ]
  },
  {
   "cell_type": "code",
   "execution_count": null,
   "id": "331867ad",
   "metadata": {},
   "outputs": [],
   "source": [
    "fig, (ax1, ax2) = plt.subplots(2, 1, figsize=(15, 8))\n",
    "\n",
    "sns.barplot(data=df, x='Year', y='CSUSHPISA', color='g', ax=ax1).set(title='house price index of years')\n",
    "ax1.grid(True)\n",
    "\n",
    "sns.lineplot(data=df, x='Year', y='CPIAUCNS', marker='o', color='b', ax=ax2).set(title='CPI index Over The Year')\n",
    "ax2.grid(True)\n",
    "\n",
    "fig.tight_layout()\n",
    "plt.show()"
   ]
  },
  {
   "cell_type": "markdown",
   "id": "23cb3383",
   "metadata": {},
   "source": [
    "Observation:\n",
    "1. House prices have increased steadily over the past two decades, with a few minor dips. The index has increased from 100 in 2003 to over 300 in 2023. This represents a more than threefold increase in house prices over the past two decades. The largest increase in house prices occurred between 2003 and 2007. This was a period of economic prosperity, with low interest rates and high demand for housing.The housing bubble burst in 2008, leading to a sharp decline in house prices. However, house prices began to recover in 2012 and have continued to rise since then.\n",
    "\n",
    "2. The CPI index is a measure of inflation. As you can see, the CPI index has also been increasing over the past two decades. However, the house price index has increased at a faster rate than the CPI index. This means that house prices have become less affordable over time."
   ]
  },
  {
   "cell_type": "markdown",
   "id": "81479678",
   "metadata": {},
   "source": [
    "###### Bivarient analysis with target variable CSUSHPISA(price index)"
   ]
  },
  {
   "cell_type": "code",
   "execution_count": null,
   "id": "cc047f0a",
   "metadata": {},
   "outputs": [],
   "source": [
    "# Set up a 2x2 grid for subplots\n",
    "fig, axes = plt.subplots(nrows=2, ncols=2, figsize=(12, 8))\n",
    "\n",
    "# Scatter plot\n",
    "sns.scatterplot(x='Interest', y='CSUSHPISA', data=df, ax=axes[0, 0],color='green')\n",
    "axes[0, 0].set_title('CSUSHPISA vs Interest')\n",
    "\n",
    "# Line plot\n",
    "sns.lineplot(x='Unemp_rate', y='CSUSHPISA', data=df, ax=axes[0, 1],color='red')\n",
    "axes[0, 1].set_title('CSUSHPISA vs Unemp_rate')\n",
    "\n",
    "# Regression plot\n",
    "sns.regplot(x='Income', y='CSUSHPISA', data=df, ax=axes[1, 0],color='orange')\n",
    "axes[1, 0].set_title('CSUSHPISA vs Income')\n",
    "\n",
    "# line plot\n",
    "sns.lineplot(x='Const_units', y='CSUSHPISA', data=df, ax=axes[1, 1],color='blue')\n",
    "axes[1, 1].set_title('CSUSHPISA vs Const_units')\n",
    "\n",
    "# Adjust layout\n",
    "plt.tight_layout()\n",
    "\n",
    "# Show the plots\n",
    "plt.show()"
   ]
  },
  {
   "cell_type": "code",
   "execution_count": null,
   "id": "81f00b1a",
   "metadata": {},
   "outputs": [],
   "source": [
    "# Set up a 2x2 grid for subplots\n",
    "fig, axes = plt.subplots(nrows=2, ncols=2, figsize=(12, 8))\n",
    "\n",
    "# Scatter plot\n",
    "sns.scatterplot(x='Const_price', y='CSUSHPISA', data=df, ax=axes[0, 0],color='green')\n",
    "axes[0, 0].set_title('CSUSHPISA vs Const_price')\n",
    "\n",
    "# Line plot\n",
    "sns.lineplot(x='empl_population', y='CSUSHPISA', data=df, ax=axes[0, 1],color='red')\n",
    "axes[0, 1].set_title('CSUSHPISA vs empl_population')\n",
    "\n",
    "# Regression plot\n",
    "sns.regplot(x='population', y='CSUSHPISA', data=df, ax=axes[1, 0],color='orange')\n",
    "axes[1, 0].set_title('CSUSHPISA vs population')\n",
    "\n",
    "# line plot\n",
    "sns.lineplot(x='Units_Authoriz', y='CSUSHPISA', data=df, ax=axes[1, 1],color='blue')\n",
    "axes[1, 1].set_title('CSUSHPISA vs Units_Authoriz')\n",
    "\n",
    "# Adjust layout\n",
    "plt.tight_layout()\n",
    "\n",
    "# Show the plots\n",
    "plt.show()"
   ]
  },
  {
   "cell_type": "markdown",
   "id": "a458069f",
   "metadata": {},
   "source": [
    "###### multivariant analysis"
   ]
  },
  {
   "cell_type": "code",
   "execution_count": null,
   "id": "e1c482cb",
   "metadata": {},
   "outputs": [],
   "source": [
    "sns.pairplot(df)\n",
    "plt.show()"
   ]
  },
  {
   "cell_type": "markdown",
   "id": "9a9bc3e1",
   "metadata": {},
   "source": [
    "###### statistical summary"
   ]
  },
  {
   "cell_type": "code",
   "execution_count": null,
   "id": "61629795",
   "metadata": {},
   "outputs": [],
   "source": [
    "# statistical summary of numerical columns\n",
    "df.describe()"
   ]
  },
  {
   "cell_type": "markdown",
   "id": "cd19b192",
   "metadata": {},
   "source": [
    "Observation:\n",
    "1. count is same for all features\n",
    "2. detection of outlier is possible in constrution price, income, unit authorised"
   ]
  },
  {
   "cell_type": "code",
   "execution_count": null,
   "id": "ead540ed",
   "metadata": {},
   "outputs": [],
   "source": [
    "#correlation\n",
    "df.corr()"
   ]
  },
  {
   "cell_type": "code",
   "execution_count": null,
   "id": "8c70d61a",
   "metadata": {},
   "outputs": [],
   "source": [
    "# visualize the correlation\n",
    "plt.figure(figsize=(20,15))\n",
    "sns.heatmap(df.corr(),linewidths=0.1,fmt='0.2f',annot=True)"
   ]
  },
  {
   "cell_type": "code",
   "execution_count": null,
   "id": "d049398e",
   "metadata": {},
   "outputs": [],
   "source": [
    "# correlation of column with target column votes\n",
    "df.corr()[\"CSUSHPISA\"].sort_values()"
   ]
  },
  {
   "cell_type": "markdown",
   "id": "911dda78",
   "metadata": {},
   "source": [
    "Observation:\n",
    "US house price index is\n",
    "1. positively corelated with construction price, CPI index, Income, year, population\n",
    "2. negatively corelated with employee population, unemployeement rate"
   ]
  },
  {
   "cell_type": "code",
   "execution_count": null,
   "id": "17243096",
   "metadata": {},
   "outputs": [],
   "source": [
    "#plotting corelation\n",
    "plt.figure(figsize=(22,7))\n",
    "df.corr()['CSUSHPISA'].sort_values(ascending=False).drop(['CSUSHPISA']).plot(kind='bar')\n",
    "plt.xlabel('Values',fontsize=14)\n",
    "plt.ylabel('CSUSHPISA',fontsize=14)\n",
    "plt.title('corelation',fontsize=16)\n",
    "plt.show()"
   ]
  },
  {
   "cell_type": "markdown",
   "id": "48d4d0fc",
   "metadata": {},
   "source": [
    "###### Outlier detection"
   ]
  },
  {
   "cell_type": "code",
   "execution_count": null,
   "id": "b0657986",
   "metadata": {},
   "outputs": [],
   "source": [
    "plt.figure(figsize=(20, 25), facecolor='white')\n",
    "plotnumber = 1\n",
    "\n",
    "for column in df.columns:\n",
    "    if plotnumber <= 20 and pd.api.types.is_numeric_dtype(df[column]):\n",
    "        ax = plt.subplot(5, 4, plotnumber)\n",
    "        sns.boxplot(df[column])\n",
    "        plt.xlabel(column, fontsize=20)\n",
    "        plotnumber += 1\n",
    "\n",
    "plt.tight_layout()\n",
    "plt.show()\n"
   ]
  },
  {
   "cell_type": "markdown",
   "id": "ca05b0de",
   "metadata": {},
   "source": [
    "Observation:\n",
    "Outlier detected in Unemployment rate, income, construction price and price index"
   ]
  },
  {
   "cell_type": "code",
   "execution_count": null,
   "id": "c251f9c6",
   "metadata": {},
   "outputs": [],
   "source": [
    "# Outlier removing\n",
    "df.shape"
   ]
  },
  {
   "cell_type": "code",
   "execution_count": null,
   "id": "dee7521c",
   "metadata": {},
   "outputs": [],
   "source": [
    "#dropping irrevant column\n",
    "df.drop(['Month','Day'],axis=1,inplace=True)\n"
   ]
  },
  {
   "cell_type": "code",
   "execution_count": null,
   "id": "2858a23f",
   "metadata": {},
   "outputs": [],
   "source": [
    "# Outlier removing\n",
    "df.shape"
   ]
  },
  {
   "cell_type": "code",
   "execution_count": null,
   "id": "9a9d6204",
   "metadata": {},
   "outputs": [],
   "source": [
    "df.columns"
   ]
  },
  {
   "cell_type": "code",
   "execution_count": null,
   "id": "fba36076",
   "metadata": {},
   "outputs": [],
   "source": [
    "from scipy.stats import zscore\n",
    "\n",
    "columns = [ 'Unemp_rate', 'Income', 'Const_price',]\n",
    "z = np.abs(zscore(df[columns]))\n",
    "z"
   ]
  },
  {
   "cell_type": "code",
   "execution_count": null,
   "id": "1699f75c",
   "metadata": {},
   "outputs": [],
   "source": [
    "threshold=3\n",
    "np.where(z>3)"
   ]
  },
  {
   "cell_type": "code",
   "execution_count": null,
   "id": "272557f7",
   "metadata": {},
   "outputs": [],
   "source": [
    "df_new=df[(z<3).all(axis=1)]\n",
    "df_new"
   ]
  },
  {
   "cell_type": "code",
   "execution_count": null,
   "id": "ec6397dd",
   "metadata": {},
   "outputs": [],
   "source": [
    "df_new.shape"
   ]
  },
  {
   "cell_type": "code",
   "execution_count": null,
   "id": "138df95d",
   "metadata": {},
   "outputs": [],
   "source": [
    "#data loss in percentage\n",
    "Data_loss =((df.shape[0]-df_new.shape[0])/df.shape[0])*100\n",
    "Data_loss"
   ]
  },
  {
   "cell_type": "markdown",
   "id": "de3d0764",
   "metadata": {},
   "source": [
    "Data loss is in acceptable range"
   ]
  },
  {
   "cell_type": "markdown",
   "id": "77d253ea",
   "metadata": {},
   "source": [
    "#### Model building"
   ]
  },
  {
   "cell_type": "code",
   "execution_count": null,
   "id": "d5f3cd89",
   "metadata": {},
   "outputs": [],
   "source": [
    "x=df.drop(\"CSUSHPISA\",axis=1)"
   ]
  },
  {
   "cell_type": "code",
   "execution_count": null,
   "id": "7005ea68",
   "metadata": {},
   "outputs": [],
   "source": [
    "x.shape"
   ]
  },
  {
   "cell_type": "code",
   "execution_count": null,
   "id": "cc51a869",
   "metadata": {},
   "outputs": [],
   "source": [
    "y = df[\"CSUSHPISA\"]"
   ]
  },
  {
   "cell_type": "code",
   "execution_count": null,
   "id": "bc2f7cfb",
   "metadata": {},
   "outputs": [],
   "source": [
    "y.shape"
   ]
  },
  {
   "cell_type": "code",
   "execution_count": null,
   "id": "0f885a5b",
   "metadata": {},
   "outputs": [],
   "source": [
    "#scalling\n",
    "from sklearn.preprocessing import StandardScaler\n",
    "scaler = StandardScaler()\n",
    "x = pd.DataFrame(scaler.fit_transform(x), columns=x.columns)\n",
    "x"
   ]
  },
  {
   "cell_type": "code",
   "execution_count": null,
   "id": "5c41d122",
   "metadata": {},
   "outputs": [],
   "source": [
    "# importing necessary libraries\n",
    "from sklearn.model_selection import train_test_split\n",
    "from sklearn.metrics import mean_absolute_error\n",
    "from sklearn.metrics import mean_squared_error\n",
    "from sklearn.metrics import r2_score\n",
    "from sklearn.model_selection import cross_val_score"
   ]
  },
  {
   "cell_type": "markdown",
   "id": "a9d0cd2e",
   "metadata": {},
   "source": [
    "###### 1.Linear Regression"
   ]
  },
  {
   "cell_type": "code",
   "execution_count": null,
   "id": "58bd0d8e",
   "metadata": {},
   "outputs": [],
   "source": [
    "from sklearn.linear_model import LinearRegression\n",
    "lr=LinearRegression()"
   ]
  },
  {
   "cell_type": "code",
   "execution_count": null,
   "id": "64490ee9",
   "metadata": {},
   "outputs": [],
   "source": [
    "#finding best random state\n",
    "maxAccu=0\n",
    "maxRS=0\n",
    "for i in range(1,200):\n",
    "    x_train,x_test,y_train,y_test = train_test_split(x,y,test_size=.2, random_state =i)\n",
    "    lr.fit(x_train,y_train)\n",
    "    pred_train=lr.predict(x_train)\n",
    "    pred_test=lr.predict(x_test)\n",
    "    acc=r2_score(y_test,pred_test)\n",
    "    if acc>maxAccu:\n",
    "        maxAccu=acc\n",
    "        maxRS=i\n",
    "print(\"Best accuracy is \",maxAccu,\" on Random_state \",maxRS)"
   ]
  },
  {
   "cell_type": "code",
   "execution_count": null,
   "id": "1a75f546",
   "metadata": {},
   "outputs": [],
   "source": [
    "x_train,x_test,y_train,y_test=train_test_split(x,y,test_size=0.2,random_state=146)"
   ]
  },
  {
   "cell_type": "code",
   "execution_count": null,
   "id": "36a001b3",
   "metadata": {},
   "outputs": [],
   "source": [
    "# checking r2 score for linear regression\n",
    "lr.fit(x_train,y_train)\n",
    "\n",
    "# prediction\n",
    "pred_test=lr.predict(x_test)\n",
    "print('R2_score/test_accuracy:',r2_score(y_test,pred_test))\n",
    "\n",
    "# mean Absolute error (MAE)\n",
    "print('Mean Absolute Error:',mean_absolute_error(y_test, pred_test))\n",
    "\n",
    "# mean Squared error (MSE)\n",
    "print('Mean Squared Error:',mean_squared_error(y_test, pred_test))\n",
    "\n",
    "# root mean Squared error (RMSE)\n",
    "print(\"Root Mean Squared Error:\",np.sqrt(mean_squared_error(y_test, pred_test)))\n"
   ]
  },
  {
   "cell_type": "code",
   "execution_count": null,
   "id": "ff84bf18",
   "metadata": {},
   "outputs": [],
   "source": [
    "# naming instance\n",
    "test_accuracy=r2_score(y_test,pred_test)\n"
   ]
  },
  {
   "cell_type": "code",
   "execution_count": null,
   "id": "02d9665d",
   "metadata": {},
   "outputs": [],
   "source": [
    "# checking cross validation score for Linear Regression\n",
    "from sklearn.model_selection import cross_val_score\n",
    "from sklearn.metrics import r2_score\n",
    "import seaborn as sns\n",
    "import matplotlib.pyplot as plt\n",
    "\n",
    "# Assuming lr, x, y, y_test, and pred_test are already defined\n",
    "\n",
    "# Checking cross-validation score\n",
    "cross_val_score_mean = cross_val_score(lr, x, y, cv=7).mean()\n",
    "print(\"Cross Validation Score for Linear Regression:\", cross_val_score_mean)\n",
    "\n",
    "# Checking R2 score\n",
    "r2_test_score = r2_score(y_test, pred_test)\n",
    "print('R2_score/test_accuracy for Linear Regression:', r2_test_score)\n",
    "\n",
    "# Visualizing the predicted values\n",
    "sns.regplot(x=y_test, y=pred_test, color=\"r\")\n",
    "plt.show()\n"
   ]
  },
  {
   "cell_type": "markdown",
   "id": "8c904e21",
   "metadata": {},
   "source": [
    "###### Regularization"
   ]
  },
  {
   "cell_type": "code",
   "execution_count": null,
   "id": "625fc5ea",
   "metadata": {},
   "outputs": [],
   "source": [
    "from sklearn.ensemble import RandomForestRegressor,ExtraTreesRegressor\n",
    "from sklearn.linear_model import Lasso, Ridge\n",
    "from sklearn.ensemble import GradientBoostingRegressor\n",
    "from sklearn.ensemble import BaggingRegressor"
   ]
  },
  {
   "cell_type": "markdown",
   "id": "0bce2bba",
   "metadata": {},
   "source": [
    "###### Lasso Regressor"
   ]
  },
  {
   "cell_type": "code",
   "execution_count": null,
   "id": "9f0e6e15",
   "metadata": {},
   "outputs": [],
   "source": [
    "from sklearn.model_selection import GridSearchCV\n",
    "# checking best alpha value\n",
    "parameters={'alpha':[1e-15,1e-10, 1e-8,1e-3,1e-2,1,5,10,20,30,35,40,45,50,55,100]}\n",
    "lasso=Lasso()\n",
    "clf=GridSearchCV(lasso,parameters)\n",
    "clf.fit(x_train,y_train)\n",
    "print(clf.best_params_)"
   ]
  },
  {
   "cell_type": "code",
   "execution_count": null,
   "id": "4c462f1e",
   "metadata": {},
   "outputs": [],
   "source": [
    "# checking r2score for Lasso Regressor\n",
    "from sklearn.linear_model import Lasso\n",
    "from sklearn.metrics import r2_score, mean_absolute_error, mean_squared_error\n",
    "from sklearn.model_selection import cross_val_score\n",
    "import numpy as np\n",
    "import seaborn as sns\n",
    "import matplotlib.pyplot as plt\n",
    "\n",
    "# Assuming x_train, y_train, x_test, y_test, and x, y are already defined\n",
    "\n",
    "# Checking r2score for Lasso Regressor\n",
    "lasso = Lasso(alpha=1)\n",
    "\n",
    "# Fitting the model\n",
    "lasso.fit(x_train, y_train)\n",
    "train_score = lasso.score(x_train, y_train)\n",
    "print(f\"Lasso Regression Train Score: {train_score}\")\n",
    "\n",
    "# Predictions\n",
    "pred_test = lasso.predict(x_test)\n",
    "print('R2_score/test_accuracy for lasso regression:', r2_score(y_test, pred_test))\n",
    "\n",
    "# Mean Absolute Error (MAE)\n",
    "print('Mean Absolute Error for lasso regression:', mean_absolute_error(y_test, pred_test))\n",
    "\n",
    "# Mean Squared Error (MSE)\n",
    "print('Mean Squared Error for lasso regression:', mean_squared_error(y_test, pred_test))\n",
    "\n",
    "# Root Mean Squared Error (RMSE)\n",
    "print(\"Root Mean Squared Error for lasso regression:\", np.sqrt(mean_squared_error(y_test, pred_test)))\n",
    "\n",
    "# Checking cross-validation score for lasso regression\n",
    "cross_val_score_mean = cross_val_score(lasso, x, y, cv=7).mean()\n",
    "print(\"Cross Validation Score for Lasso Regression:\", cross_val_score_mean)\n",
    "\n",
    "# Visualizing the predicted values\n",
    "sns.regplot(x=y_test, y=pred_test, color=\"g\")\n",
    "plt.xlabel('Actual Values')\n",
    "plt.ylabel('Predicted Values')\n",
    "plt.title('Lasso Regression: Actual vs Predicted Values')\n",
    "plt.show()\n"
   ]
  },
  {
   "cell_type": "markdown",
   "id": "8b7fce0a",
   "metadata": {},
   "source": [
    "###### Ridge Regressor"
   ]
  },
  {
   "cell_type": "code",
   "execution_count": null,
   "id": "6f399dda",
   "metadata": {},
   "outputs": [],
   "source": [
    "# checking best alpha value\n",
    "paramsRidge = {'alpha':[1e-15,1e-10, 1e-8,1e-3,1e-2,1,5,10,20,30,35,40,45,50,55,100]}\n",
    "ridge=Ridge()\n",
    "clf=GridSearchCV(ridge,paramsRidge)\n",
    "clf.fit(x_train,y_train)\n",
    "print(clf.best_params_)"
   ]
  },
  {
   "cell_type": "code",
   "execution_count": null,
   "id": "ee03ff6b",
   "metadata": {},
   "outputs": [],
   "source": [
    "# checking r2score for Ridge Regressor\n",
    "from sklearn.linear_model import Ridge\n",
    "from sklearn.metrics import r2_score, mean_absolute_error, mean_squared_error\n",
    "from sklearn.model_selection import cross_val_score\n",
    "import numpy as np\n",
    "import seaborn as sns\n",
    "import matplotlib.pyplot as plt\n",
    "\n",
    "# Assuming x_train, y_train, x_test, y_test, and x, y are already defined\n",
    "\n",
    "# Ridge Regression\n",
    "ridge = Ridge(alpha=50)\n",
    "\n",
    "# Fitting the model\n",
    "ridge.fit(x_train, y_train)\n",
    "train_score = ridge.score(x_train, y_train)\n",
    "print(f\"Ridge Regression Train Score: {train_score}\")\n",
    "\n",
    "# Predictions\n",
    "pred_test = ridge.predict(x_test)\n",
    "print('R2_score/test_accuracy for Ridge regression:', r2_score(y_test, pred_test))\n",
    "\n",
    "# Mean Absolute Error (MAE)\n",
    "print('Mean Absolute Error for Ridge regression:', mean_absolute_error(y_test, pred_test))\n",
    "\n",
    "# Mean Squared Error (MSE)\n",
    "print('Mean Squared Error for Ridge regression:', mean_squared_error(y_test, pred_test))\n",
    "\n",
    "# Root Mean Squared Error (RMSE)\n",
    "print(\"Root Mean Squared Error for Ridge regression:\", np.sqrt(mean_squared_error(y_test, pred_test)))\n",
    "\n",
    "# Checking cross-validation score for Ridge regression\n",
    "cross_val_score_mean = cross_val_score(ridge, x, y, cv=7).mean()\n",
    "print(\"Cross Validation Score for Ridge Regression:\", cross_val_score_mean)\n",
    "\n",
    "# Visualizing the predicted values\n",
    "sns.regplot(x=y_test, y=pred_test, color=\"r\")\n",
    "plt.xlabel('Actual Values')\n",
    "plt.ylabel('Predicted Values')\n",
    "plt.title('Ridge Regression: Actual vs Predicted Values')\n",
    "plt.show()\n"
   ]
  },
  {
   "cell_type": "markdown",
   "id": "83f4f4bf",
   "metadata": {},
   "source": [
    "###### Ensemble Techniques"
   ]
  },
  {
   "cell_type": "markdown",
   "id": "5db6ee6f",
   "metadata": {},
   "source": [
    "###### Random Forest Regressor"
   ]
  },
  {
   "cell_type": "code",
   "execution_count": null,
   "id": "04da5db4",
   "metadata": {},
   "outputs": [],
   "source": [
    "# checking r2score for Random Forest Regressor\n",
    "\n",
    "\n",
    "# Assuming x_train, y_train, x_test, y_test, and x, y are already defined\n",
    "\n",
    "# Random Forest Regression\n",
    "RFR = RandomForestRegressor()\n",
    "RFR.fit(x_train, y_train)\n",
    "\n",
    "# Predictions\n",
    "pred_test = RFR.predict(x_test)\n",
    "print('R2_score/test_accuracy for Random Forest regression:', r2_score(y_test, pred_test))\n",
    "\n",
    "# Mean Absolute Error (MAE)\n",
    "print('Mean Absolute Error for Random Forest regression:', mean_absolute_error(y_test, pred_test))\n",
    "\n",
    "# Mean Squared Error (MSE)\n",
    "print('Mean Squared Error for Random Forest regression:', mean_squared_error(y_test, pred_test))\n",
    "\n",
    "# Root Mean Squared Error (RMSE)\n",
    "print(\"Root Mean Squared Error for Random Forest regression:\", np.sqrt(mean_squared_error(y_test, pred_test)))\n",
    "\n",
    "# Checking cross-validation score for Random Forest regression\n",
    "cross_val_score_mean = cross_val_score(RFR, x, y, cv=7).mean()\n",
    "print(\"Cross Validation Score for Random Forest Regression:\", cross_val_score_mean)\n",
    "\n",
    "# Visualizing the predicted values\n",
    "sns.regplot(x=y_test, y=pred_test, color=\"g\")\n",
    "plt.xlabel('Actual Values')\n",
    "plt.ylabel('Predicted Values')\n",
    "plt.title('Random Forest Regression: Actual vs Predicted Values')\n",
    "plt.show()\n"
   ]
  },
  {
   "cell_type": "markdown",
   "id": "a7168ca8",
   "metadata": {},
   "source": [
    "###### Extra Trees Regressor"
   ]
  },
  {
   "cell_type": "code",
   "execution_count": null,
   "id": "cc7f794e",
   "metadata": {},
   "outputs": [],
   "source": [
    "# checking r2score for Extra Trees Regressor\n",
    "\n",
    "\n",
    "# Assuming x_train, y_train, x_test, y_test, and x, y are already defined\n",
    "\n",
    "# Extra Trees Regression\n",
    "XT = ExtraTreesRegressor()\n",
    "XT.fit(x_train, y_train)\n",
    "\n",
    "# Predictions\n",
    "pred_test = XT.predict(x_test)\n",
    "print('R2_score/test_accuracy for Extra Trees regression:', r2_score(y_test, pred_test))\n",
    "\n",
    "# Mean Absolute Error (MAE)\n",
    "print('Mean Absolute Error for Extra Trees regression:', mean_absolute_error(y_test, pred_test))\n",
    "\n",
    "# Mean Squared Error (MSE)\n",
    "print('Mean Squared Error for Extra Trees regression:', mean_squared_error(y_test, pred_test))\n",
    "\n",
    "# Root Mean Squared Error (RMSE)\n",
    "print(\"Root Mean Squared Error for Extra Trees regression:\", np.sqrt(mean_squared_error(y_test, pred_test)))\n",
    "\n",
    "# Checking cross-validation score for Extra Trees regression\n",
    "cross_val_score_mean = cross_val_score(XT, x, y, cv=7).mean()\n",
    "print(\"Cross Validation Score for Extra Trees Regression:\", cross_val_score_mean)\n",
    "\n",
    "# Visualizing the predicted values\n",
    "sns.regplot(x=y_test, y=pred_test, color=\"r\")\n",
    "plt.xlabel('Actual Values')\n",
    "plt.ylabel('Predicted Values')\n",
    "plt.title('Extra Trees Regression: Actual vs Predicted Values')\n",
    "plt.show()\n"
   ]
  },
  {
   "cell_type": "markdown",
   "id": "03856a66",
   "metadata": {},
   "source": [
    "###### Gradient Boosting Regressor"
   ]
  },
  {
   "cell_type": "code",
   "execution_count": null,
   "id": "ed87b9e6",
   "metadata": {},
   "outputs": [],
   "source": [
    "# checking r2score for GradientBoosting Regressor\n",
    "from sklearn.ensemble import GradientBoostingRegressor\n",
    "from sklearn.metrics import r2_score, mean_absolute_error, mean_squared_error\n",
    "from sklearn.model_selection import cross_val_score\n",
    "import numpy as np\n",
    "import seaborn as sns\n",
    "import matplotlib.pyplot as plt\n",
    "\n",
    "# Assuming x_train, y_train, x_test, y_test, and x, y are already defined\n",
    "\n",
    "# Gradient Boosting Regression\n",
    "GB = GradientBoostingRegressor()\n",
    "GB.fit(x_train, y_train)\n",
    "\n",
    "# Predictions\n",
    "pred_test = GB.predict(x_test)\n",
    "print('R2_score/test_accuracy for GradientBoosting regression:', r2_score(y_test, pred_test))\n",
    "\n",
    "# Mean Absolute Error (MAE)\n",
    "print('Mean Absolute Error for GradientBoosting regression:', mean_absolute_error(y_test, pred_test))\n",
    "\n",
    "# Mean Squared Error (MSE)\n",
    "print('Mean Squared Error for GradientBoosting regression:', mean_squared_error(y_test, pred_test))\n",
    "\n",
    "# Root Mean Squared Error (RMSE)\n",
    "print(\"Root Mean Squared Error for GradientBoosting regression:\", np.sqrt(mean_squared_error(y_test, pred_test)))\n",
    "\n",
    "# Checking cross-validation score for Gradient Boosting regression\n",
    "cross_val_score_mean = cross_val_score(GB, x, y, cv=7).mean()\n",
    "print(\"Cross Validation Score for Gradient Boosting Regression:\", cross_val_score_mean)\n",
    "\n",
    "# Visualizing the predicted values\n",
    "sns.regplot(x=y_test, y=pred_test, color=\"g\")\n",
    "plt.xlabel('Actual Values')\n",
    "plt.ylabel('Predicted Values')\n",
    "plt.title('Gradient Boosting Regression: Actual vs Predicted Values')\n",
    "plt.show()\n"
   ]
  },
  {
   "cell_type": "markdown",
   "id": "6e7d53e9",
   "metadata": {},
   "source": [
    "###### Bagging Regressor"
   ]
  },
  {
   "cell_type": "code",
   "execution_count": null,
   "id": "ed8c83f5",
   "metadata": {},
   "outputs": [],
   "source": [
    "# checking r2score for Bagging Regressor\n",
    "from sklearn.ensemble import BaggingRegressor\n",
    "from sklearn.metrics import r2_score, mean_absolute_error, mean_squared_error\n",
    "from sklearn.model_selection import cross_val_score\n",
    "import numpy as np\n",
    "import seaborn as sns\n",
    "import matplotlib.pyplot as plt\n",
    "\n",
    "# Assuming x_train, y_train, x_test, y_test, and x, y are predefined\n",
    "\n",
    "# Initialize the Bagging Regressor\n",
    "BR = BaggingRegressor()\n",
    "\n",
    "# Fit the model to the training data\n",
    "BR.fit(x_train, y_train)\n",
    "\n",
    "# Predict on the test data\n",
    "pred_test = BR.predict(x_test)\n",
    "\n",
    "# Print R2 score / test accuracy\n",
    "print('R2_score/test_accuracy for Bagging regression:', r2_score(y_test, pred_test))\n",
    "\n",
    "# Print Mean Absolute Error (MAE)\n",
    "print('Mean Absolute Error for Bagging regression:', mean_absolute_error(y_test, pred_test))\n",
    "\n",
    "# Print Mean Squared Error (MSE)\n",
    "print('Mean Squared Error for Bagging regression:', mean_squared_error(y_test, pred_test))\n",
    "\n",
    "# Print Root Mean Squared Error (RMSE)\n",
    "print(\"Root Mean Squared Error for Bagging regression:\", np.sqrt(mean_squared_error(y_test, pred_test)))\n",
    "\n",
    "# Print Cross Validation Score\n",
    "print(\"Cross Validation Score:\", cross_val_score(BR, x, y, cv=7).mean())\n",
    "\n",
    "# Visualizing the predicted values\n",
    "sns.regplot(x=y_test, y=pred_test, color=\"r\")\n",
    "plt.xlabel('Actual Values')\n",
    "plt.ylabel('Predicted Values')\n",
    "plt.title('Bagging Regression: Actual vs Predicted Values')\n",
    "plt.show()\n"
   ]
  },
  {
   "cell_type": "markdown",
   "id": "5f38af12",
   "metadata": {},
   "source": [
    "Observation:\n",
    "\n",
    "1. linear regration\n",
    "\n",
    "   R2_score/test_accuracy: 0.9937571303151767\n",
    "   \n",
    "   Mean Absolute Error: 3.6169255016602366\n",
    "   \n",
    "2. lasso regrassor\n",
    "\n",
    "   R2_score/test_accuracy for lasso regression: 0.9917158215040528\n",
    "   \n",
    "   Mean Absolute Error for lasso regression: 4.24904104483778\n",
    "\n",
    "3. Ridge Regressor\n",
    "\n",
    "   R2_score/test_accuracy for Ridge regression: 0.9797508677623676\n",
    "   \n",
    "   Mean Absolute Error for Ridge regression: 6.746119426798016\n",
    "\n",
    "\n",
    "4. Random Forest Regressor\n",
    "\n",
    "   R2_score/test_accuracy for Random Forest regression: 0.9988933725863773\n",
    "   \n",
    "   Mean Absolute Error for Random Forest regression: 1.2683916326531375\n",
    "\n",
    "\n",
    "5. Extra Trees Regressor\n",
    "\n",
    "   R2_score/test_accuracy for Extra Trees regression: 0.9996135831233464\n",
    "   \n",
    "   Mean Absolute Error for Extra Trees regression: 0.7647346938776068\n",
    "\n",
    "\n",
    "6. GradientBoosting Regressor\n",
    "\n",
    "   R2_score/test_accuracy for GradientBoosting regression: 0.9989991498449123\n",
    "   \n",
    "   Mean Absolute Error for GradientBoosting regression: 1.5044491254229553\n",
    "\n",
    "\n",
    "7. Bagging Regressor\n",
    "\n",
    "   R2_score/test_accuracy for Bagging regression: 0.9990650613686026\n",
    "   \n",
    "   Mean Absolute Error for Bagging regression: 1.4881979591836743"
   ]
  },
  {
   "cell_type": "markdown",
   "id": "2e34e7f1",
   "metadata": {},
   "source": [
    "###### From above observation I choose Extra Trees regression as it have high accuracy and low MAE"
   ]
  },
  {
   "cell_type": "markdown",
   "id": "08ecf8ed",
   "metadata": {},
   "source": [
    "###### Hyperparameter tuning"
   ]
  },
  {
   "cell_type": "code",
   "execution_count": null,
   "id": "6be7aa3e",
   "metadata": {},
   "outputs": [],
   "source": [
    "# Importing Libraries\n",
    "from sklearn.model_selection import GridSearchCV"
   ]
  },
  {
   "cell_type": "code",
   "execution_count": null,
   "id": "299ffdd6",
   "metadata": {},
   "outputs": [],
   "source": [
    "#Define the hyperparameter grid to search\n",
    "param_grid = {\n",
    "    'n_estimators': [50, 100, 200],\n",
    "    'max_depth': [None, 10, 20],\n",
    "    'min_samples_split': [2, 5, 10],\n",
    "    'min_samples_leaf': [1, 2, 4],\n",
    "    'max_features': ['auto', 'sqrt', 'log2']\n",
    "}"
   ]
  },
  {
   "cell_type": "code",
   "execution_count": null,
   "id": "bf8a42b5",
   "metadata": {},
   "outputs": [],
   "source": [
    "#Create the Extra TreesingRegressor model\n",
    "ET = ExtraTreesRegressor()\n",
    "\n",
    "# Perform grid search using the defined parameter grid\n",
    "grid_search = GridSearchCV(ET, param_grid, cv=7)"
   ]
  },
  {
   "cell_type": "code",
   "execution_count": null,
   "id": "13888c31",
   "metadata": {},
   "outputs": [],
   "source": [
    "#Fit the grid search to the training data\n",
    "grid_search.fit(x_train, y_train)\n"
   ]
  },
  {
   "cell_type": "code",
   "execution_count": null,
   "id": "45715988",
   "metadata": {},
   "outputs": [],
   "source": [
    "# Get the best hyperparameters and best model\n",
    "best_params = grid_search.best_params_\n",
    "print(\"best_params:\",best_params)\n",
    "best_model = grid_search.best_estimator_\n",
    "print(\"best_model:\",best_model)"
   ]
  },
  {
   "cell_type": "code",
   "execution_count": null,
   "id": "f11ff992",
   "metadata": {},
   "outputs": [],
   "source": [
    "# Checking score with best parameter\n",
    "final_model=ExtraTreesRegressor(min_samples_leaf=1, max_depth=None, n_estimators=200,min_samples_split= 2 )\n",
    "final_model.fit(x_train,y_train)\n",
    "predfinal=final_model.predict(x_test)\n",
    "print('Final Accuracy is with ExtraTrees Regressor is  = ',r2_score(y_test,predfinal))"
   ]
  },
  {
   "cell_type": "markdown",
   "id": "550a2e07",
   "metadata": {},
   "source": [
    "###### After hyperparameter tuning accuracy is 99.96%"
   ]
  },
  {
   "cell_type": "markdown",
   "id": "2006bf0a",
   "metadata": {},
   "source": [
    "###### Saving the Model"
   ]
  },
  {
   "cell_type": "code",
   "execution_count": null,
   "id": "e0b8721c",
   "metadata": {},
   "outputs": [],
   "source": [
    "#importing library\n",
    "import joblib\n",
    "#saving the model\n",
    "joblib.dump(ET,'US_house_price.pkl')"
   ]
  },
  {
   "cell_type": "markdown",
   "id": "158a596c",
   "metadata": {},
   "source": [
    "###### prediction"
   ]
  },
  {
   "cell_type": "code",
   "execution_count": null,
   "id": "25c3353b",
   "metadata": {},
   "outputs": [],
   "source": [
    "# Predict house price of 2024\n",
    "data = {'Interest' : 5.33,'Unemp_rate' : 3.5,'Income' : 16985.4,'Const_units' : 1475,'Const_price' : 330,'empl_population' : 62.5,'population ': 335705,'Units_Authoriz':1472, 'CPIAUCNS':310.1,'sale_price':431000.0,'GDP':67083.0, 'households':131434.0, 'Subsidies':50.299, 'Year': 2024 }\n",
    "index=[1]\n",
    "df_2024 = pd.DataFrame(data,index)\n",
    "df_2024"
   ]
  },
  {
   "cell_type": "markdown",
   "id": "60a30a64",
   "metadata": {},
   "source": [
    "#### Conclusion"
   ]
  },
  {
   "cell_type": "markdown",
   "id": "eff01cde",
   "metadata": {},
   "source": [
    "The US Housing Market Analysis underscores the multifaceted nature of factors influencing home prices. "
   ]
  },
  {
   "cell_type": "markdown",
   "id": "f43b1da9",
   "metadata": {},
   "source": [
    "###### The Extra Trees Regressor model demonstrates exceptional performance, achieving an accuracy of 99.96% in predicting house prices."
   ]
  },
  {
   "cell_type": "markdown",
   "id": "65cdcaa7",
   "metadata": {},
   "source": [
    " This level of accuracy suggests that the model is capturing intricate relationships within the dataset, making it a powerful tool for predicting future house prices. It outperforms many traditional regression models, providing a robust solution for real estate price forecasting. However, it's crucial to conduct thorough validation and testing to ensure the model's generalization to new data and to consider potential overfitting, especially if the dataset used for training is limited in size. Overall, the high accuracy of the model signals its effectiveness and reliability in predicting house prices."
   ]
  },
  {
   "cell_type": "code",
   "execution_count": null,
   "id": "112e1e1c",
   "metadata": {},
   "outputs": [],
   "source": []
  },
  {
   "cell_type": "code",
   "execution_count": null,
   "id": "808eeb87",
   "metadata": {},
   "outputs": [],
   "source": []
  },
  {
   "cell_type": "code",
   "execution_count": null,
   "id": "f8e5d066",
   "metadata": {},
   "outputs": [],
   "source": []
  },
  {
   "cell_type": "code",
   "execution_count": null,
   "id": "8dee2656",
   "metadata": {},
   "outputs": [],
   "source": []
  },
  {
   "cell_type": "code",
   "execution_count": null,
   "id": "3c97c41e",
   "metadata": {},
   "outputs": [],
   "source": []
  },
  {
   "cell_type": "code",
   "execution_count": null,
   "id": "95bf08b4",
   "metadata": {},
   "outputs": [],
   "source": []
  },
  {
   "cell_type": "code",
   "execution_count": null,
   "id": "98b4118a",
   "metadata": {},
   "outputs": [],
   "source": []
  },
  {
   "cell_type": "code",
   "execution_count": null,
   "id": "b4c88dbb",
   "metadata": {},
   "outputs": [],
   "source": []
  },
  {
   "cell_type": "code",
   "execution_count": null,
   "id": "c9a21aea",
   "metadata": {},
   "outputs": [],
   "source": []
  },
  {
   "cell_type": "code",
   "execution_count": null,
   "id": "d6a6ff12",
   "metadata": {},
   "outputs": [],
   "source": []
  },
  {
   "cell_type": "code",
   "execution_count": null,
   "id": "ae012935",
   "metadata": {},
   "outputs": [],
   "source": []
  },
  {
   "cell_type": "code",
   "execution_count": null,
   "id": "5a87854d",
   "metadata": {},
   "outputs": [],
   "source": []
  },
  {
   "cell_type": "code",
   "execution_count": null,
   "id": "2fe061ba",
   "metadata": {},
   "outputs": [],
   "source": []
  },
  {
   "cell_type": "code",
   "execution_count": null,
   "id": "749a5ba9",
   "metadata": {},
   "outputs": [],
   "source": []
  },
  {
   "cell_type": "code",
   "execution_count": null,
   "id": "fe657e42",
   "metadata": {},
   "outputs": [],
   "source": []
  },
  {
   "cell_type": "code",
   "execution_count": null,
   "id": "788a942e",
   "metadata": {},
   "outputs": [],
   "source": []
  },
  {
   "cell_type": "code",
   "execution_count": null,
   "id": "57f897c3",
   "metadata": {},
   "outputs": [],
   "source": []
  },
  {
   "cell_type": "code",
   "execution_count": null,
   "id": "b3815043",
   "metadata": {},
   "outputs": [],
   "source": []
  },
  {
   "cell_type": "code",
   "execution_count": null,
   "id": "faa18c67",
   "metadata": {},
   "outputs": [],
   "source": []
  },
  {
   "cell_type": "code",
   "execution_count": null,
   "id": "0c1c9c72",
   "metadata": {},
   "outputs": [],
   "source": []
  },
  {
   "cell_type": "code",
   "execution_count": null,
   "id": "5c880226",
   "metadata": {},
   "outputs": [],
   "source": []
  },
  {
   "cell_type": "code",
   "execution_count": null,
   "id": "25e382ec",
   "metadata": {},
   "outputs": [],
   "source": []
  },
  {
   "cell_type": "code",
   "execution_count": null,
   "id": "53dc8270",
   "metadata": {},
   "outputs": [],
   "source": []
  },
  {
   "cell_type": "code",
   "execution_count": null,
   "id": "79bc9c62",
   "metadata": {},
   "outputs": [],
   "source": []
  }
 ],
 "metadata": {
  "kernelspec": {
   "display_name": "Python 3 (ipykernel)",
   "language": "python",
   "name": "python3"
  },
  "language_info": {
   "codemirror_mode": {
    "name": "ipython",
    "version": 3
   },
   "file_extension": ".py",
   "mimetype": "text/x-python",
   "name": "python",
   "nbconvert_exporter": "python",
   "pygments_lexer": "ipython3",
   "version": "3.11.5"
  }
 },
 "nbformat": 4,
 "nbformat_minor": 5
}
